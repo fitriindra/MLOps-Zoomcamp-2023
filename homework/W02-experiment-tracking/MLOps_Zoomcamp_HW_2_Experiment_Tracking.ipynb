{
 "cells": [
  {
   "attachments": {},
   "cell_type": "markdown",
   "metadata": {},
   "source": [
    "# Homework\n",
    "The goal of this homework is to get familiar with tools like MLflow for experiment tracking and model management.\n",
    "\n"
   ]
  },
  {
   "attachments": {},
   "cell_type": "markdown",
   "metadata": {},
   "source": [
    "## Q1. Install the package\n",
    "To get started with MLflow you'll need to install the appropriate Python package.\n",
    "\n",
    "For this we recommend creating a separate Python environment, for example, you can use conda environments, and then install the package there with `pip` or `conda`.\n",
    "\n",
    "Once you installed the package, run the command `mlflow --version` and check the output.\n",
    "\n",
    "What's the version that you have?"
   ]
  },
  {
   "cell_type": "code",
   "execution_count": 1,
   "metadata": {},
   "outputs": [
    {
     "name": "stdout",
     "output_type": "stream",
     "text": [
      "mlflow, version 2.3.2\n"
     ]
    }
   ],
   "source": [
    "!conda activate experiment-tracking-env\n",
    "!pip install mlflow\n",
    "!mlflow --version"
   ]
  },
  {
   "attachments": {},
   "cell_type": "markdown",
   "metadata": {},
   "source": [
    "## Q2. Download and preprocess the data\n",
    "We'll use the Green Taxi Trip Records dataset to predict the amount of tips for each trip.\n",
    "\n",
    "Download the data for January, February and March 2022 in parquet format from here.\n",
    "\n",
    "Use the script `preprocess_data.py` located in the folder homework to preprocess the data.\n",
    "\n",
    "The script will:\n",
    "\n",
    "* load the data from the folder `<TAXI_DATA_FOLDER>` (the folder where you have downloaded the data),\n",
    "* fit a `DictVectorizer` on the training set (January 2022 data),\n",
    "* save the preprocessed datasets and the `DictVectorize`r to disk.\n",
    "\n",
    "Your task is to download the datasets and then execute this command:\n",
    "\n",
    "`python preprocess_data.py --raw_data_path <TAXI_DATA_FOLDER> --dest_path ./output`\n",
    "Tip: go to 02-experiment-tracking/homework/ folder before executing the command and change the value of `<TAXI_DATA_FOLDER>` to the location where you saved the data.\n",
    "\n",
    "So what's the size of the saved DictVectorizer file?\n",
    "\n",
    "* 54 kB\n",
    "* 154 kB\n",
    "* 54 MB\n",
    "* 154 MB"
   ]
  },
  {
   "cell_type": "code",
   "execution_count": 2,
   "metadata": {},
   "outputs": [
    {
     "name": "stdout",
     "output_type": "stream",
     "text": [
      "\n",
      "Saved under taxi-data//green_tripdata_2022-01.parquet\n",
      "\n",
      "Saved under taxi-data//green_tripdata_2022-02.parquet\n",
      "\n",
      "Saved under taxi-data//green_tripdata_2022-03.parquet\n"
     ]
    }
   ],
   "source": [
    "#downloading Green Taxi Trip data and place it under `taxi-data` folder\n",
    "!python -m wget https://d37ci6vzurychx.cloudfront.net/trip-data/green_tripdata_2022-01.parquet -o taxi-data/\n",
    "!python -m wget  https://d37ci6vzurychx.cloudfront.net/trip-data/green_tripdata_2022-02.parquet -o taxi-data/\n",
    "!python -m wget  https://d37ci6vzurychx.cloudfront.net/trip-data/green_tripdata_2022-03.parquet -o taxi-data/"
   ]
  },
  {
   "cell_type": "code",
   "execution_count": 3,
   "metadata": {},
   "outputs": [],
   "source": [
    "!python scripts/preprocess_data.py --raw_data_path taxi-data/ --dest_path output/"
   ]
  },
  {
   "attachments": {},
   "cell_type": "markdown",
   "metadata": {},
   "source": [
    "## Q3. Train a model with autolog\n",
    "We will train a `RandomForestRegressor` (from Scikit-Learn) on the taxi dataset.\n",
    "\n",
    "We have prepared the training script train.py for this exercise, which can be also found in the folder homework.\n",
    "\n",
    "The script will:\n",
    "\n",
    "* load the datasets produced by the previous step,\n",
    "* train the model on the training set,\n",
    "* calculate the RMSE score on the validation set.\n",
    "\n",
    "Your task is to modify the script to enable autologging with MLflow, execute the script and then launch the MLflow UI to check that the experiment run was properly tracked.\n",
    "\n",
    "Tip 1: don't forget to wrap the training code with a with `mlflow.start_run()`: statement as we showed in the videos.\n",
    "\n",
    "Tip 2: don't modify the hyperparameters of the model to make sure that the training will finish quickly.\n",
    "\n",
    "What is the value of the `max_depth` parameter:\n",
    "\n",
    "* 4\n",
    "* 6\n",
    "* 8\n",
    "* 10"
   ]
  },
  {
   "cell_type": "code",
   "execution_count": 4,
   "metadata": {},
   "outputs": [
    {
     "name": "stdout",
     "output_type": "stream",
     "text": [
      "running training output/\n",
      "rmse 2.453983836538874\n"
     ]
    },
    {
     "name": "stderr",
     "output_type": "stream",
     "text": [
      "2023/06/03 19:44:31 INFO mlflow.tracking.fluent: Experiment with name 'green-taxi-experiment' does not exist. Creating a new experiment.\n"
     ]
    }
   ],
   "source": [
    "!python scripts/train.py --data_path output/"
   ]
  },
  {
   "attachments": {},
   "cell_type": "markdown",
   "metadata": {},
   "source": [
    "![green-taxi](images/green_taxi_experiment.png)"
   ]
  },
  {
   "attachments": {},
   "cell_type": "markdown",
   "metadata": {},
   "source": [
    "## Launch the tracking server locally for MLflow\n",
    "Now we want to manage the entire lifecycle of our ML model. In this step, you'll need to launch a tracking server. This way we will also have access to the model registry.\n",
    "\n",
    "In case of MLflow, you need to:\n",
    "\n",
    "launch the tracking server on your local machine,\n",
    "select a SQLite db for the backend store and a folder called artifacts for the artifacts store.\n",
    "You should keep the tracking server running to work on the next three exercises that use the server."
   ]
  },
  {
   "attachments": {},
   "cell_type": "markdown",
   "metadata": {},
   "source": [
    "## Q4. Tune model hyperparameters\n",
    "\n",
    "Now let's try to reduce the validation error by tuning the hyperparameters of the `RandomForestRegressor` using optuna. We have prepared the script `hpo.py` for this exercise.\n",
    "\n",
    "Your task is to modify the script `hpo.py` and make sure that the validation `RMSE` is logged to the tracking server for each run of the hyperparameter optimization (you will need to add a few lines of code to the objective function) and run the script without passing any parameters.\n",
    "\n",
    "After that, open UI and explore the runs from the experiment called `random-forest-hyperopt` to answer the question below.\n",
    "\n",
    "Note: Don't use autologging for this exercise.\n",
    "\n",
    "The idea is to just log the information that you need to answer the question below, including:\n",
    "\n",
    "the list of hyperparameters that are passed to the objective function during the optimization,\n",
    "the `RMSE` obtained on the validation set (February 2022 data).\n",
    "What's the best validation `RMSE` that you got?\n",
    "\n",
    "* 1.85\n",
    "* 2.15\n",
    "* 2.45\n",
    "* 2.85"
   ]
  },
  {
   "cell_type": "code",
   "execution_count": 5,
   "metadata": {},
   "outputs": [
    {
     "name": "stderr",
     "output_type": "stream",
     "text": [
      "2023/06/03 20:06:23 INFO mlflow.tracking.fluent: Experiment with name 'random-forest-hyperopt' does not exist. Creating a new experiment.\n",
      "[I 2023-06-03 20:06:24,187] A new study created in memory with name: no-name-452b82e2-78e6-4692-923f-318037c6e7fb\n",
      "[I 2023-06-03 20:06:30,638] Trial 0 finished with value: 2.451379690825458 and parameters: {'n_estimators': 25, 'max_depth': 20, 'min_samples_split': 8, 'min_samples_leaf': 3}. Best is trial 0 with value: 2.451379690825458.\n",
      "[I 2023-06-03 20:06:31,720] Trial 1 finished with value: 2.4667366020368333 and parameters: {'n_estimators': 16, 'max_depth': 4, 'min_samples_split': 2, 'min_samples_leaf': 4}. Best is trial 0 with value: 2.451379690825458.\n",
      "[I 2023-06-03 20:06:39,983] Trial 2 finished with value: 2.449827329704216 and parameters: {'n_estimators': 34, 'max_depth': 15, 'min_samples_split': 2, 'min_samples_leaf': 4}. Best is trial 2 with value: 2.449827329704216.\n",
      "[I 2023-06-03 20:06:45,965] Trial 3 finished with value: 2.460983516558473 and parameters: {'n_estimators': 44, 'max_depth': 5, 'min_samples_split': 3, 'min_samples_leaf': 1}. Best is trial 2 with value: 2.449827329704216.\n",
      "[I 2023-06-03 20:06:53,172] Trial 4 finished with value: 2.453877262701052 and parameters: {'n_estimators': 22, 'max_depth': 11, 'min_samples_split': 5, 'min_samples_leaf': 2}. Best is trial 2 with value: 2.449827329704216.\n",
      "[I 2023-06-03 20:06:56,499] Trial 5 finished with value: 2.4720122094960733 and parameters: {'n_estimators': 35, 'max_depth': 3, 'min_samples_split': 4, 'min_samples_leaf': 2}. Best is trial 2 with value: 2.449827329704216.\n",
      "[I 2023-06-03 20:07:05,178] Trial 6 finished with value: 2.4516421799356767 and parameters: {'n_estimators': 28, 'max_depth': 16, 'min_samples_split': 3, 'min_samples_leaf': 3}. Best is trial 2 with value: 2.449827329704216.\n",
      "[I 2023-06-03 20:07:05,967] Trial 7 finished with value: 2.5374040268274087 and parameters: {'n_estimators': 34, 'max_depth': 1, 'min_samples_split': 7, 'min_samples_leaf': 1}. Best is trial 2 with value: 2.449827329704216.\n",
      "[I 2023-06-03 20:07:08,266] Trial 8 finished with value: 2.455971238567075 and parameters: {'n_estimators': 12, 'max_depth': 19, 'min_samples_split': 10, 'min_samples_leaf': 4}. Best is trial 2 with value: 2.449827329704216.\n",
      "[I 2023-06-03 20:07:09,093] Trial 9 finished with value: 2.486106021576535 and parameters: {'n_estimators': 22, 'max_depth': 2, 'min_samples_split': 8, 'min_samples_leaf': 2}. Best is trial 2 with value: 2.449827329704216.\n"
     ]
    }
   ],
   "source": [
    "!python scripts/hpo.py --data_path output/"
   ]
  },
  {
   "attachments": {},
   "cell_type": "markdown",
   "metadata": {},
   "source": [
    "![hyperparameter](images/rf_hyperopt.png)"
   ]
  },
  {
   "attachments": {},
   "cell_type": "markdown",
   "metadata": {},
   "source": [
    "## Q5. Promote the best model to the model registry\n",
    "The results from the hyperparameter optimization are quite good. So, we can assume that we are ready to test some of these models in production. In this exercise, you'll promote the best model to the model registry. We have prepared a script called `register_model.py`, which will check the results from the previous step and select the top 5 runs. After that, it will calculate the `RMSE` of those models on the test set (March 2022 data) and save the results to a new experiment called `random-forest-best-models`.\n",
    "\n",
    "Your task is to update the script `register_model.py` so that it selects the model with the lowest RMSE on the test set and registers it to the model registry.\n",
    "\n",
    "Tips for MLflow:\n",
    "\n",
    "you can use the method `search_runs` from the `MlflowClient` to get the model with the lowest `RMSE`,\n",
    "to register the model you can use the method `mlflow.register_model` and you will need to pass the right `model_uri` in the form of a string that looks like this: `\"runs:/<RUN_ID>/model\"`, and the name of the model (make sure to choose a good one!).\n",
    "What is the test `RMSE` of the best model?\n",
    "\n",
    "* 1.885\n",
    "* 2.185\n",
    "* 2.555\n",
    "* 2.955"
   ]
  },
  {
   "cell_type": "code",
   "execution_count": 6,
   "metadata": {},
   "outputs": [
    {
     "name": "stderr",
     "output_type": "stream",
     "text": [
      "2023/06/03 20:45:40 INFO mlflow.tracking.fluent: Experiment with name 'random-forest-best-models' does not exist. Creating a new experiment.\n",
      "2023/06/03 20:46:08 WARNING mlflow.utils.autologging_utils: MLflow autologging encountered a warning: \"c:\\Users\\Fitri\\miniconda3\\envs\\experiment-tracking-env\\Lib\\site-packages\\_distutils_hack\\__init__.py:33: UserWarning: Setuptools is replacing distutils.\"\n",
      "Successfully registered model 'green-taxi-randomforest'.\n",
      "2023/06/03 20:47:05 INFO mlflow.tracking._model_registry.client: Waiting up to 300 seconds for model version to finish creation. Model name: green-taxi-randomforest, version 1\n",
      "Created version '1' of model 'green-taxi-randomforest'.\n"
     ]
    }
   ],
   "source": [
    "!python scripts/register_model.py --data_path output/"
   ]
  },
  {
   "attachments": {},
   "cell_type": "markdown",
   "metadata": {},
   "source": [
    "![best-model](images/best_rmse.png)"
   ]
  },
  {
   "attachments": {},
   "cell_type": "markdown",
   "metadata": {},
   "source": [
    "## Q6. Model metadata\n",
    "Now explore your best model in the model registry using UI. What information does the model registry contain about each model?\n",
    "\n",
    "* Version number\n",
    "* Source experiment\n",
    "* Model signature\n",
    "* All the above answers are correct"
   ]
  },
  {
   "attachments": {},
   "cell_type": "markdown",
   "metadata": {},
   "source": [
    "![model](images/model_registry.png)"
   ]
  }
 ],
 "metadata": {
  "kernelspec": {
   "display_name": "experiment-tracking-env",
   "language": "python",
   "name": "python3"
  },
  "language_info": {
   "codemirror_mode": {
    "name": "ipython",
    "version": 3
   },
   "file_extension": ".py",
   "mimetype": "text/x-python",
   "name": "python",
   "nbconvert_exporter": "python",
   "pygments_lexer": "ipython3",
   "version": "3.11.3"
  },
  "orig_nbformat": 4
 },
 "nbformat": 4,
 "nbformat_minor": 2
}
